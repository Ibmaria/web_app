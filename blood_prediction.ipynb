{
 "cells": [
  {
   "cell_type": "markdown",
   "metadata": {
    "id": "6aW1U9mhzjON"
   },
   "source": [
    "\n",
    "##This notebook intends to analyze and create a model on the Blood Donation  dataset to predict whether or not a donor will give blood the next time.\n",
    "\n",
    "\n",
    "[Try the web app](https://ibrahim-projets.herokuapp.com/projets/blood/)"
   ]
  },
  {
   "cell_type": "code",
   "execution_count": null,
   "metadata": {
    "colab": {
     "base_uri": "https://localhost:8080/"
    },
    "executionInfo": {
     "elapsed": 27683,
     "status": "ok",
     "timestamp": 1608059629985,
     "user": {
      "displayName": "ibrahim kone",
      "photoUrl": "",
      "userId": "02753287663478591702"
     },
     "user_tz": -60
    },
    "id": "NFTiDQOKOmFm",
    "outputId": "875fabda-1173-4c0a-a338-ac2299b53308"
   },
   "outputs": [
    {
     "name": "stdout",
     "output_type": "stream",
     "text": [
      "Mounted at /gdrive\n",
      "/gdrive/My Drive/projets\n"
     ]
    }
   ],
   "source": [
    "from google.colab import drive\n",
    " \n",
    "drive.mount('/gdrive')\n",
    "# the project's folder\n",
    "%cd /gdrive/'My Drive'/projets"
   ]
  },
  {
   "cell_type": "code",
   "execution_count": null,
   "metadata": {
    "colab": {
     "base_uri": "https://localhost:8080/"
    },
    "executionInfo": {
     "elapsed": 3966,
     "status": "ok",
     "timestamp": 1608059632911,
     "user": {
      "displayName": "ibrahim kone",
      "photoUrl": "",
      "userId": "02753287663478591702"
     },
     "user_tz": -60
    },
    "id": "DQq6tyfvO4pH",
    "outputId": "846bf07b-92c2-44d2-e1ed-98cdd1223822"
   },
   "outputs": [
    {
     "name": "stderr",
     "output_type": "stream",
     "text": [
      "/usr/local/lib/python3.6/dist-packages/sklearn/externals/joblib/__init__.py:15: FutureWarning: sklearn.externals.joblib is deprecated in 0.21 and will be removed in 0.23. Please import this functionality directly from joblib, which can be installed with: pip install joblib. If this warning is raised when loading pickled models, you may need to re-serialize those models with scikit-learn 0.21+.\n",
      "  warnings.warn(msg, category=FutureWarning)\n"
     ]
    }
   ],
   "source": [
    "import numpy as np\n",
    "import pandas as pd \n",
    "import seaborn as sns \n",
    "import gc\n",
    "import matplotlib.pyplot as plt\n",
    "import time \n",
    "from sklearn.model_selection import StratifiedKFold\n",
    "from sklearn.ensemble import GradientBoostingClassifier\n",
    "from sklearn.model_selection import GridSearchCV\n",
    "import lightgbm as lgbm\n",
    "from lightgbm import LGBMClassifier\n",
    "from sklearn.metrics import roc_auc_score, roc_curve\n",
    "from sklearn.model_selection import KFold, StratifiedKFold\n",
    "import keras\n",
    "from keras.models import Sequential\n",
    "from keras.layers import Dense, Dropout\n",
    "# Encoding categorical data\n",
    "from sklearn.preprocessing import LabelEncoder\n",
    "from sklearn.model_selection import train_test_split\n",
    "from sklearn.externals import joblib"
   ]
  },
  {
   "cell_type": "code",
   "execution_count": null,
   "metadata": {
    "colab": {
     "base_uri": "https://localhost:8080/",
     "height": 202
    },
    "executionInfo": {
     "elapsed": 830,
     "status": "ok",
     "timestamp": 1608059645771,
     "user": {
      "displayName": "ibrahim kone",
      "photoUrl": "",
      "userId": "02753287663478591702"
     },
     "user_tz": -60
    },
    "id": "FKlX_yTWPfSM",
    "outputId": "28fcff1b-be20-4a85-c415-6aeb49538d99"
   },
   "outputs": [
    {
     "data": {
      "text/html": [
       "<div>\n",
       "<style scoped>\n",
       "    .dataframe tbody tr th:only-of-type {\n",
       "        vertical-align: middle;\n",
       "    }\n",
       "\n",
       "    .dataframe tbody tr th {\n",
       "        vertical-align: top;\n",
       "    }\n",
       "\n",
       "    .dataframe thead th {\n",
       "        text-align: right;\n",
       "    }\n",
       "</style>\n",
       "<table border=\"1\" class=\"dataframe\">\n",
       "  <thead>\n",
       "    <tr style=\"text-align: right;\">\n",
       "      <th></th>\n",
       "      <th>Unnamed: 0</th>\n",
       "      <th>Months since Last Donation</th>\n",
       "      <th>Number of Donations</th>\n",
       "      <th>Total Volume Donated (c.c.)</th>\n",
       "      <th>Months since First Donation</th>\n",
       "      <th>Made Donation in March 2007</th>\n",
       "    </tr>\n",
       "  </thead>\n",
       "  <tbody>\n",
       "    <tr>\n",
       "      <th>0</th>\n",
       "      <td>619</td>\n",
       "      <td>2</td>\n",
       "      <td>50</td>\n",
       "      <td>12500</td>\n",
       "      <td>98</td>\n",
       "      <td>1</td>\n",
       "    </tr>\n",
       "    <tr>\n",
       "      <th>1</th>\n",
       "      <td>664</td>\n",
       "      <td>0</td>\n",
       "      <td>13</td>\n",
       "      <td>3250</td>\n",
       "      <td>28</td>\n",
       "      <td>1</td>\n",
       "    </tr>\n",
       "    <tr>\n",
       "      <th>2</th>\n",
       "      <td>441</td>\n",
       "      <td>1</td>\n",
       "      <td>16</td>\n",
       "      <td>4000</td>\n",
       "      <td>35</td>\n",
       "      <td>1</td>\n",
       "    </tr>\n",
       "    <tr>\n",
       "      <th>3</th>\n",
       "      <td>160</td>\n",
       "      <td>2</td>\n",
       "      <td>20</td>\n",
       "      <td>5000</td>\n",
       "      <td>45</td>\n",
       "      <td>1</td>\n",
       "    </tr>\n",
       "    <tr>\n",
       "      <th>4</th>\n",
       "      <td>358</td>\n",
       "      <td>1</td>\n",
       "      <td>24</td>\n",
       "      <td>6000</td>\n",
       "      <td>77</td>\n",
       "      <td>0</td>\n",
       "    </tr>\n",
       "  </tbody>\n",
       "</table>\n",
       "</div>"
      ],
      "text/plain": [
       "   Unnamed: 0  ...  Made Donation in March 2007\n",
       "0         619  ...                            1\n",
       "1         664  ...                            1\n",
       "2         441  ...                            1\n",
       "3         160  ...                            1\n",
       "4         358  ...                            0\n",
       "\n",
       "[5 rows x 6 columns]"
      ]
     },
     "execution_count": 3,
     "metadata": {
      "tags": []
     },
     "output_type": "execute_result"
    }
   ],
   "source": [
    "df_train=pd.read_csv('/gdrive/My Drive/projets/blood_train.csv')\n",
    "df_train.head()"
   ]
  },
  {
   "cell_type": "code",
   "execution_count": null,
   "metadata": {
    "colab": {
     "base_uri": "https://localhost:8080/"
    },
    "executionInfo": {
     "elapsed": 790,
     "status": "ok",
     "timestamp": 1607973345642,
     "user": {
      "displayName": "ibrahim kone",
      "photoUrl": "",
      "userId": "02753287663478591702"
     },
     "user_tz": -60
    },
    "id": "e-lqYiCoabXv",
    "outputId": "bf4c2e20-e5cb-4ccd-b9db-270cbfe9d1f2"
   },
   "outputs": [
    {
     "data": {
      "text/plain": [
       "(576, 6)"
      ]
     },
     "execution_count": 36,
     "metadata": {
      "tags": []
     },
     "output_type": "execute_result"
    }
   ],
   "source": [
    "df_train.shape"
   ]
  },
  {
   "cell_type": "code",
   "execution_count": null,
   "metadata": {
    "colab": {
     "base_uri": "https://localhost:8080/",
     "height": 323
    },
    "executionInfo": {
     "elapsed": 784,
     "status": "ok",
     "timestamp": 1608029454178,
     "user": {
      "displayName": "ibrahim kone",
      "photoUrl": "",
      "userId": "02753287663478591702"
     },
     "user_tz": -60
    },
    "id": "VFMGe67BQ23x",
    "outputId": "2352c138-9fa6-4113-c2dc-711b0c376606"
   },
   "outputs": [
    {
     "name": "stdout",
     "output_type": "stream",
     "text": [
      "id                             0\n",
      "Months_since_Last_Donation     0\n",
      "Number_donations               0\n",
      "Total_Volume_Donated           0\n",
      "Months_since_First_Donation    0\n",
      "Target                         0\n",
      "dtype: int64\n"
     ]
    },
    {
     "data": {
      "text/html": [
       "<div>\n",
       "<style scoped>\n",
       "    .dataframe tbody tr th:only-of-type {\n",
       "        vertical-align: middle;\n",
       "    }\n",
       "\n",
       "    .dataframe tbody tr th {\n",
       "        vertical-align: top;\n",
       "    }\n",
       "\n",
       "    .dataframe thead th {\n",
       "        text-align: right;\n",
       "    }\n",
       "</style>\n",
       "<table border=\"1\" class=\"dataframe\">\n",
       "  <thead>\n",
       "    <tr style=\"text-align: right;\">\n",
       "      <th></th>\n",
       "      <th>Months_since_Last_Donation</th>\n",
       "      <th>Number_donations</th>\n",
       "      <th>Total_Volume_Donated</th>\n",
       "      <th>Months_since_First_Donation</th>\n",
       "      <th>Target</th>\n",
       "    </tr>\n",
       "  </thead>\n",
       "  <tbody>\n",
       "    <tr>\n",
       "      <th>0</th>\n",
       "      <td>2</td>\n",
       "      <td>50</td>\n",
       "      <td>12500</td>\n",
       "      <td>98</td>\n",
       "      <td>1</td>\n",
       "    </tr>\n",
       "    <tr>\n",
       "      <th>1</th>\n",
       "      <td>0</td>\n",
       "      <td>13</td>\n",
       "      <td>3250</td>\n",
       "      <td>28</td>\n",
       "      <td>1</td>\n",
       "    </tr>\n",
       "    <tr>\n",
       "      <th>2</th>\n",
       "      <td>1</td>\n",
       "      <td>16</td>\n",
       "      <td>4000</td>\n",
       "      <td>35</td>\n",
       "      <td>1</td>\n",
       "    </tr>\n",
       "    <tr>\n",
       "      <th>3</th>\n",
       "      <td>2</td>\n",
       "      <td>20</td>\n",
       "      <td>5000</td>\n",
       "      <td>45</td>\n",
       "      <td>1</td>\n",
       "    </tr>\n",
       "    <tr>\n",
       "      <th>4</th>\n",
       "      <td>1</td>\n",
       "      <td>24</td>\n",
       "      <td>6000</td>\n",
       "      <td>77</td>\n",
       "      <td>0</td>\n",
       "    </tr>\n",
       "  </tbody>\n",
       "</table>\n",
       "</div>"
      ],
      "text/plain": [
       "   Months_since_Last_Donation  ...  Target\n",
       "0                           2  ...       1\n",
       "1                           0  ...       1\n",
       "2                           1  ...       1\n",
       "3                           2  ...       1\n",
       "4                           1  ...       0\n",
       "\n",
       "[5 rows x 5 columns]"
      ]
     },
     "execution_count": 17,
     "metadata": {
      "tags": []
     },
     "output_type": "execute_result"
    }
   ],
   "source": [
    "#rename id et made donation\n",
    "df_train.columns = ['id','Months_since_Last_Donation','Number_donations','Total_Volume_Donated','Months_since_First_Donation', 'Target']\n",
    "print(df_train.isnull().sum())\n",
    "df_train = df_train.drop('id',axis = 1 )\n",
    "df_train.head()"
   ]
  },
  {
   "cell_type": "code",
   "execution_count": null,
   "metadata": {
    "colab": {
     "base_uri": "https://localhost:8080/",
     "height": 1000
    },
    "executionInfo": {
     "elapsed": 2049,
     "status": "ok",
     "timestamp": 1607971621867,
     "user": {
      "displayName": "ibrahim kone",
      "photoUrl": "",
      "userId": "02753287663478591702"
     },
     "user_tz": -60
    },
    "id": "K2AWPQv4VGht",
    "outputId": "41fd8304-ca30-4572-cc05-85f97c1314c2"
   },
   "outputs": [
    {
     "data": {
      "text/plain": [
       "array([[<matplotlib.axes._subplots.AxesSubplot object at 0x7ff52c95f9e8>,\n",
       "        <matplotlib.axes._subplots.AxesSubplot object at 0x7ff52c864c50>],\n",
       "       [<matplotlib.axes._subplots.AxesSubplot object at 0x7ff52c89beb8>,\n",
       "        <matplotlib.axes._subplots.AxesSubplot object at 0x7ff52c85a160>],\n",
       "       [<matplotlib.axes._subplots.AxesSubplot object at 0x7ff52c80c3c8>,\n",
       "        <matplotlib.axes._subplots.AxesSubplot object at 0x7ff52c7c5080>]],\n",
       "      dtype=object)"
      ]
     },
     "execution_count": 6,
     "metadata": {
      "tags": []
     },
     "output_type": "execute_result"
    },
    {
     "data": {
      "image/png": "[encoded data removed]",
      "text/plain": [
       "<Figure size 1440x1440 with 6 Axes>"
      ]
     },
     "metadata": {
      "needs_background": "light",
      "tags": []
     },
     "output_type": "display_data"
    }
   ],
   "source": [
    "df_train.hist(figsize = (20,20))"
   ]
  },
  {
   "cell_type": "code",
   "execution_count": null,
   "metadata": {
    "colab": {
     "base_uri": "https://localhost:8080/",
     "height": 294
    },
    "executionInfo": {
     "elapsed": 743,
     "status": "ok",
     "timestamp": 1607971629001,
     "user": {
      "displayName": "ibrahim kone",
      "photoUrl": "",
      "userId": "02753287663478591702"
     },
     "user_tz": -60
    },
    "id": "GtmLj8L1VSr9",
    "outputId": "ca3232b0-78b3-45c2-fbe6-7f335f234f51"
   },
   "outputs": [
    {
     "data": {
      "text/html": [
       "<div>\n",
       "<style scoped>\n",
       "    .dataframe tbody tr th:only-of-type {\n",
       "        vertical-align: middle;\n",
       "    }\n",
       "\n",
       "    .dataframe tbody tr th {\n",
       "        vertical-align: top;\n",
       "    }\n",
       "\n",
       "    .dataframe thead th {\n",
       "        text-align: right;\n",
       "    }\n",
       "</style>\n",
       "<table border=\"1\" class=\"dataframe\">\n",
       "  <thead>\n",
       "    <tr style=\"text-align: right;\">\n",
       "      <th></th>\n",
       "      <th>Months_since_Last_Donation</th>\n",
       "      <th>Number_donations</th>\n",
       "      <th>Total_Volume_Donated</th>\n",
       "      <th>Months_since_First_Donation</th>\n",
       "      <th>Target</th>\n",
       "    </tr>\n",
       "  </thead>\n",
       "  <tbody>\n",
       "    <tr>\n",
       "      <th>count</th>\n",
       "      <td>576.000000</td>\n",
       "      <td>576.000000</td>\n",
       "      <td>576.000000</td>\n",
       "      <td>576.000000</td>\n",
       "      <td>576.000000</td>\n",
       "    </tr>\n",
       "    <tr>\n",
       "      <th>mean</th>\n",
       "      <td>9.439236</td>\n",
       "      <td>5.427083</td>\n",
       "      <td>1356.770833</td>\n",
       "      <td>34.050347</td>\n",
       "      <td>0.239583</td>\n",
       "    </tr>\n",
       "    <tr>\n",
       "      <th>std</th>\n",
       "      <td>8.175454</td>\n",
       "      <td>5.740010</td>\n",
       "      <td>1435.002556</td>\n",
       "      <td>24.227672</td>\n",
       "      <td>0.427200</td>\n",
       "    </tr>\n",
       "    <tr>\n",
       "      <th>min</th>\n",
       "      <td>0.000000</td>\n",
       "      <td>1.000000</td>\n",
       "      <td>250.000000</td>\n",
       "      <td>2.000000</td>\n",
       "      <td>0.000000</td>\n",
       "    </tr>\n",
       "    <tr>\n",
       "      <th>25%</th>\n",
       "      <td>2.000000</td>\n",
       "      <td>2.000000</td>\n",
       "      <td>500.000000</td>\n",
       "      <td>16.000000</td>\n",
       "      <td>0.000000</td>\n",
       "    </tr>\n",
       "    <tr>\n",
       "      <th>50%</th>\n",
       "      <td>7.000000</td>\n",
       "      <td>4.000000</td>\n",
       "      <td>1000.000000</td>\n",
       "      <td>28.000000</td>\n",
       "      <td>0.000000</td>\n",
       "    </tr>\n",
       "    <tr>\n",
       "      <th>75%</th>\n",
       "      <td>14.000000</td>\n",
       "      <td>7.000000</td>\n",
       "      <td>1750.000000</td>\n",
       "      <td>49.250000</td>\n",
       "      <td>0.000000</td>\n",
       "    </tr>\n",
       "    <tr>\n",
       "      <th>max</th>\n",
       "      <td>74.000000</td>\n",
       "      <td>50.000000</td>\n",
       "      <td>12500.000000</td>\n",
       "      <td>98.000000</td>\n",
       "      <td>1.000000</td>\n",
       "    </tr>\n",
       "  </tbody>\n",
       "</table>\n",
       "</div>"
      ],
      "text/plain": [
       "       Months_since_Last_Donation  ...      Target\n",
       "count                  576.000000  ...  576.000000\n",
       "mean                     9.439236  ...    0.239583\n",
       "std                      8.175454  ...    0.427200\n",
       "min                      0.000000  ...    0.000000\n",
       "25%                      2.000000  ...    0.000000\n",
       "50%                      7.000000  ...    0.000000\n",
       "75%                     14.000000  ...    0.000000\n",
       "max                     74.000000  ...    1.000000\n",
       "\n",
       "[8 rows x 5 columns]"
      ]
     },
     "execution_count": 7,
     "metadata": {
      "tags": []
     },
     "output_type": "execute_result"
    }
   ],
   "source": [
    "df_train.describe(include='all')"
   ]
  },
  {
   "cell_type": "code",
   "execution_count": null,
   "metadata": {
    "colab": {
     "base_uri": "https://localhost:8080/",
     "height": 1000
    },
    "executionInfo": {
     "elapsed": 1135,
     "status": "ok",
     "timestamp": 1607971264248,
     "user": {
      "displayName": "ibrahim kone",
      "photoUrl": "",
      "userId": "02753287663478591702"
     },
     "user_tz": -60
    },
    "id": "lyy7IVtNVqf-",
    "outputId": "a97f0ae3-9d5a-49b7-af09-1d7aa89fc5ee"
   },
   "outputs": [
    {
     "data": {
      "text/plain": [
       "<matplotlib.axes._subplots.AxesSubplot at 0x7f618712df98>"
      ]
     },
     "execution_count": 108,
     "metadata": {
      "tags": []
     },
     "output_type": "execute_result"
    },
    {
     "data": {
      "image/png": "[encoded data removed]",
      "text/plain": [
       "<Figure size 1296x1296 with 2 Axes>"
      ]
     },
     "metadata": {
      "tags": []
     },
     "output_type": "display_data"
    }
   ],
   "source": [
    "f,ax = plt.subplots(figsize=(18, 18))\n",
    "sns.heatmap(df_train.corr(), annot=True, linewidths=.5, fmt= '.1f',ax=ax)"
   ]
  },
  {
   "cell_type": "markdown",
   "metadata": {
    "id": "Z6i_qB0sWIwO"
   },
   "source": [
    "<center>\n",
    "Only months_since_first_donation seems to have a significative correlation with the class probability.</center>"
   ]
  },
  {
   "cell_type": "code",
   "execution_count": null,
   "metadata": {
    "colab": {
     "base_uri": "https://localhost:8080/",
     "height": 202
    },
    "executionInfo": {
     "elapsed": 687,
     "status": "ok",
     "timestamp": 1608029465357,
     "user": {
      "displayName": "ibrahim kone",
      "photoUrl": "",
      "userId": "02753287663478591702"
     },
     "user_tz": -60
    },
    "id": "w4GPHg7tV5vB",
    "outputId": "e60f0d41-98d8-4443-c550-195efd16edb6"
   },
   "outputs": [
    {
     "data": {
      "text/html": [
       "<div>\n",
       "<style scoped>\n",
       "    .dataframe tbody tr th:only-of-type {\n",
       "        vertical-align: middle;\n",
       "    }\n",
       "\n",
       "    .dataframe tbody tr th {\n",
       "        vertical-align: top;\n",
       "    }\n",
       "\n",
       "    .dataframe thead th {\n",
       "        text-align: right;\n",
       "    }\n",
       "</style>\n",
       "<table border=\"1\" class=\"dataframe\">\n",
       "  <thead>\n",
       "    <tr style=\"text-align: right;\">\n",
       "      <th></th>\n",
       "      <th>Months_since_Last_Donation</th>\n",
       "      <th>Number_donations</th>\n",
       "      <th>Total_Volume_Donated</th>\n",
       "      <th>Months_since_First_Donation</th>\n",
       "    </tr>\n",
       "  </thead>\n",
       "  <tbody>\n",
       "    <tr>\n",
       "      <th>0</th>\n",
       "      <td>2</td>\n",
       "      <td>50</td>\n",
       "      <td>12500</td>\n",
       "      <td>98</td>\n",
       "    </tr>\n",
       "    <tr>\n",
       "      <th>1</th>\n",
       "      <td>0</td>\n",
       "      <td>13</td>\n",
       "      <td>3250</td>\n",
       "      <td>28</td>\n",
       "    </tr>\n",
       "    <tr>\n",
       "      <th>2</th>\n",
       "      <td>1</td>\n",
       "      <td>16</td>\n",
       "      <td>4000</td>\n",
       "      <td>35</td>\n",
       "    </tr>\n",
       "    <tr>\n",
       "      <th>3</th>\n",
       "      <td>2</td>\n",
       "      <td>20</td>\n",
       "      <td>5000</td>\n",
       "      <td>45</td>\n",
       "    </tr>\n",
       "    <tr>\n",
       "      <th>4</th>\n",
       "      <td>1</td>\n",
       "      <td>24</td>\n",
       "      <td>6000</td>\n",
       "      <td>77</td>\n",
       "    </tr>\n",
       "  </tbody>\n",
       "</table>\n",
       "</div>"
      ],
      "text/plain": [
       "   Months_since_Last_Donation  ...  Months_since_First_Donation\n",
       "0                           2  ...                           98\n",
       "1                           0  ...                           28\n",
       "2                           1  ...                           35\n",
       "3                           2  ...                           45\n",
       "4                           1  ...                           77\n",
       "\n",
       "[5 rows x 4 columns]"
      ]
     },
     "execution_count": 18,
     "metadata": {
      "tags": []
     },
     "output_type": "execute_result"
    }
   ],
   "source": [
    "target= df_train.Target                       \n",
    "feature_to_remove = ['Target']\n",
    "df = df_train.drop(feature_to_remove,axis = 1 )\n",
    "df.head()"
   ]
  },
  {
   "cell_type": "markdown",
   "metadata": {
    "id": "vfrrZoRz07ZV"
   },
   "source": [
    "##Visualization\n",
    "<p>Before violin and swarm plot visualization we need to normalize or standardize.</p>"
   ]
  },
  {
   "cell_type": "code",
   "execution_count": null,
   "metadata": {
    "colab": {
     "base_uri": "https://localhost:8080/",
     "height": 1000
    },
    "executionInfo": {
     "elapsed": 1433,
     "status": "ok",
     "timestamp": 1607971280608,
     "user": {
      "displayName": "ibrahim kone",
      "photoUrl": "",
      "userId": "02753287663478591702"
     },
     "user_tz": -60
    },
    "id": "5q-FZ8cBV5zg",
    "outputId": "a5b8b69c-51c5-4bfb-a9cf-07ac1e709369"
   },
   "outputs": [
    {
     "data": {
      "text/plain": [
       "(array([0, 1, 2, 3]), <a list of 4 Text major ticklabel objects>)"
      ]
     },
     "execution_count": 110,
     "metadata": {
      "tags": []
     },
     "output_type": "execute_result"
    },
    {
     "data": {
      "image/png": "[encoded data removed]",
      "text/plain": [
       "<Figure size 1440x1440 with 1 Axes>"
      ]
     },
     "metadata": {
      "tags": []
     },
     "output_type": "display_data"
    }
   ],
   "source": [
    "data = (df- df.mean()) / (df.std())              # standardization\n",
    "data = pd.concat([target,data],axis=1)\n",
    "data = pd.melt(data,id_vars=\"Target\",\n",
    "                    var_name=\"features\",\n",
    "                    value_name='value')\n",
    "plt.figure(figsize=(20,20))\n",
    "sns.violinplot(x=\"features\", y=\"value\", hue=\"Target\", data=data,split=True, inner=\"quart\")\n",
    "plt.xticks(rotation=90)"
   ]
  },
  {
   "cell_type": "markdown",
   "metadata": {
    "id": "EFH2QVCMW-iP"
   },
   "source": [
    "<p>\n",
    "Only months_since_first_donation seems to be a good differentiator. Number donations and Total Volume Donated are high correlated each other  I will remove one.</p>"
   ]
  },
  {
   "cell_type": "code",
   "execution_count": null,
   "metadata": {
    "colab": {
     "base_uri": "https://localhost:8080/",
     "height": 1000
    },
    "executionInfo": {
     "elapsed": 4224,
     "status": "ok",
     "timestamp": 1607971292784,
     "user": {
      "displayName": "ibrahim kone",
      "photoUrl": "",
      "userId": "02753287663478591702"
     },
     "user_tz": -60
    },
    "id": "kgNPIajtVql0",
    "outputId": "f667ac6f-bb57-44d4-c457-b8f98a9105c7"
   },
   "outputs": [
    {
     "name": "stderr",
     "output_type": "stream",
     "text": [
      "/usr/local/lib/python3.6/dist-packages/seaborn/categorical.py:1296: UserWarning: 36.1% of the points cannot be placed; you may want to decrease the size of the markers or use stripplot.\n",
      "  warnings.warn(msg, UserWarning)\n",
      "/usr/local/lib/python3.6/dist-packages/seaborn/categorical.py:1296: UserWarning: 27.4% of the points cannot be placed; you may want to decrease the size of the markers or use stripplot.\n",
      "  warnings.warn(msg, UserWarning)\n"
     ]
    },
    {
     "data": {
      "text/plain": [
       "(array([0, 1, 2, 3]), <a list of 4 Text major ticklabel objects>)"
      ]
     },
     "execution_count": 111,
     "metadata": {
      "tags": []
     },
     "output_type": "execute_result"
    },
    {
     "data": {
      "image/png": "[encoded data removed]",
      "text/plain": [
       "<Figure size 1440x1440 with 1 Axes>"
      ]
     },
     "metadata": {
      "tags": []
     },
     "output_type": "display_data"
    }
   ],
   "source": [
    "sns.set(style=\"whitegrid\", palette=\"muted\")\n",
    "data = (df- df.mean()) / (df.std())       \n",
    "data = pd.concat([target,data],axis=1)\n",
    "data = pd.melt(data,id_vars=\"Target\",\n",
    "                    var_name=\"features\",\n",
    "                    value_name='value')\n",
    "plt.figure(figsize=(20,20))\n",
    "sns.swarmplot(x=\"features\", y=\"value\", hue=\"Target\", data=data)\n",
    "#sns.violinplot(x=\"features\", y=\"value\", hue=\"diagnosis\", data=data,split=True, inner=\"quart\")\n",
    "plt.xticks(rotation=90)"
   ]
  },
  {
   "cell_type": "code",
   "execution_count": null,
   "metadata": {
    "colab": {
     "base_uri": "https://localhost:8080/",
     "height": 415
    },
    "executionInfo": {
     "elapsed": 555,
     "status": "ok",
     "timestamp": 1608022130540,
     "user": {
      "displayName": "ibrahim kone",
      "photoUrl": "",
      "userId": "02753287663478591702"
     },
     "user_tz": -60
    },
    "id": "PG9ggT4vlmpc",
    "outputId": "e2a0c28c-391a-4088-8b06-9755f92baeff"
   },
   "outputs": [
    {
     "data": {
      "text/html": [
       "<div>\n",
       "<style scoped>\n",
       "    .dataframe tbody tr th:only-of-type {\n",
       "        vertical-align: middle;\n",
       "    }\n",
       "\n",
       "    .dataframe tbody tr th {\n",
       "        vertical-align: top;\n",
       "    }\n",
       "\n",
       "    .dataframe thead th {\n",
       "        text-align: right;\n",
       "    }\n",
       "</style>\n",
       "<table border=\"1\" class=\"dataframe\">\n",
       "  <thead>\n",
       "    <tr style=\"text-align: right;\">\n",
       "      <th></th>\n",
       "      <th>Months_since_Last_Donation</th>\n",
       "      <th>Number_donations</th>\n",
       "      <th>Total_Volume_Donated</th>\n",
       "      <th>Months_since_First_Donation</th>\n",
       "    </tr>\n",
       "  </thead>\n",
       "  <tbody>\n",
       "    <tr>\n",
       "      <th>0</th>\n",
       "      <td>2</td>\n",
       "      <td>50</td>\n",
       "      <td>12500</td>\n",
       "      <td>98</td>\n",
       "    </tr>\n",
       "    <tr>\n",
       "      <th>1</th>\n",
       "      <td>0</td>\n",
       "      <td>13</td>\n",
       "      <td>3250</td>\n",
       "      <td>28</td>\n",
       "    </tr>\n",
       "    <tr>\n",
       "      <th>2</th>\n",
       "      <td>1</td>\n",
       "      <td>16</td>\n",
       "      <td>4000</td>\n",
       "      <td>35</td>\n",
       "    </tr>\n",
       "    <tr>\n",
       "      <th>3</th>\n",
       "      <td>2</td>\n",
       "      <td>20</td>\n",
       "      <td>5000</td>\n",
       "      <td>45</td>\n",
       "    </tr>\n",
       "    <tr>\n",
       "      <th>4</th>\n",
       "      <td>1</td>\n",
       "      <td>24</td>\n",
       "      <td>6000</td>\n",
       "      <td>77</td>\n",
       "    </tr>\n",
       "    <tr>\n",
       "      <th>...</th>\n",
       "      <td>...</td>\n",
       "      <td>...</td>\n",
       "      <td>...</td>\n",
       "      <td>...</td>\n",
       "    </tr>\n",
       "    <tr>\n",
       "      <th>571</th>\n",
       "      <td>23</td>\n",
       "      <td>1</td>\n",
       "      <td>250</td>\n",
       "      <td>23</td>\n",
       "    </tr>\n",
       "    <tr>\n",
       "      <th>572</th>\n",
       "      <td>16</td>\n",
       "      <td>3</td>\n",
       "      <td>750</td>\n",
       "      <td>86</td>\n",
       "    </tr>\n",
       "    <tr>\n",
       "      <th>573</th>\n",
       "      <td>21</td>\n",
       "      <td>2</td>\n",
       "      <td>500</td>\n",
       "      <td>52</td>\n",
       "    </tr>\n",
       "    <tr>\n",
       "      <th>574</th>\n",
       "      <td>39</td>\n",
       "      <td>1</td>\n",
       "      <td>250</td>\n",
       "      <td>39</td>\n",
       "    </tr>\n",
       "    <tr>\n",
       "      <th>575</th>\n",
       "      <td>72</td>\n",
       "      <td>1</td>\n",
       "      <td>250</td>\n",
       "      <td>72</td>\n",
       "    </tr>\n",
       "  </tbody>\n",
       "</table>\n",
       "<p>576 rows × 4 columns</p>\n",
       "</div>"
      ],
      "text/plain": [
       "     Months_since_Last_Donation  ...  Months_since_First_Donation\n",
       "0                             2  ...                           98\n",
       "1                             0  ...                           28\n",
       "2                             1  ...                           35\n",
       "3                             2  ...                           45\n",
       "4                             1  ...                           77\n",
       "..                          ...  ...                          ...\n",
       "571                          23  ...                           23\n",
       "572                          16  ...                           86\n",
       "573                          21  ...                           52\n",
       "574                          39  ...                           39\n",
       "575                          72  ...                           72\n",
       "\n",
       "[576 rows x 4 columns]"
      ]
     },
     "execution_count": 6,
     "metadata": {
      "tags": []
     },
     "output_type": "execute_result"
    }
   ],
   "source": [
    "df"
   ]
  },
  {
   "cell_type": "markdown",
   "metadata": {
    "id": "zzJ3u-StgPu9"
   },
   "source": [
    "<p>I drop Total Volume donated</p>"
   ]
  },
  {
   "cell_type": "code",
   "execution_count": null,
   "metadata": {
    "id": "1DCfHedUgbfD"
   },
   "outputs": [],
   "source": [
    "df = df.drop('Total_Volume_Donated',axis = 1 )"
   ]
  },
  {
   "cell_type": "code",
   "execution_count": null,
   "metadata": {
    "colab": {
     "base_uri": "https://localhost:8080/",
     "height": 415
    },
    "executionInfo": {
     "elapsed": 610,
     "status": "ok",
     "timestamp": 1608028593561,
     "user": {
      "displayName": "ibrahim kone",
      "photoUrl": "",
      "userId": "02753287663478591702"
     },
     "user_tz": -60
    },
    "id": "eSNs3blqlq9c",
    "outputId": "075c3dd1-b1e1-4b1d-8a7b-7262fcb98f36"
   },
   "outputs": [
    {
     "data": {
      "text/html": [
       "<div>\n",
       "<style scoped>\n",
       "    .dataframe tbody tr th:only-of-type {\n",
       "        vertical-align: middle;\n",
       "    }\n",
       "\n",
       "    .dataframe tbody tr th {\n",
       "        vertical-align: top;\n",
       "    }\n",
       "\n",
       "    .dataframe thead th {\n",
       "        text-align: right;\n",
       "    }\n",
       "</style>\n",
       "<table border=\"1\" class=\"dataframe\">\n",
       "  <thead>\n",
       "    <tr style=\"text-align: right;\">\n",
       "      <th></th>\n",
       "      <th>Months_since_Last_Donation</th>\n",
       "      <th>Number_donations</th>\n",
       "      <th>Months_since_First_Donation</th>\n",
       "    </tr>\n",
       "  </thead>\n",
       "  <tbody>\n",
       "    <tr>\n",
       "      <th>0</th>\n",
       "      <td>2</td>\n",
       "      <td>50</td>\n",
       "      <td>98</td>\n",
       "    </tr>\n",
       "    <tr>\n",
       "      <th>1</th>\n",
       "      <td>0</td>\n",
       "      <td>13</td>\n",
       "      <td>28</td>\n",
       "    </tr>\n",
       "    <tr>\n",
       "      <th>2</th>\n",
       "      <td>1</td>\n",
       "      <td>16</td>\n",
       "      <td>35</td>\n",
       "    </tr>\n",
       "    <tr>\n",
       "      <th>3</th>\n",
       "      <td>2</td>\n",
       "      <td>20</td>\n",
       "      <td>45</td>\n",
       "    </tr>\n",
       "    <tr>\n",
       "      <th>4</th>\n",
       "      <td>1</td>\n",
       "      <td>24</td>\n",
       "      <td>77</td>\n",
       "    </tr>\n",
       "    <tr>\n",
       "      <th>...</th>\n",
       "      <td>...</td>\n",
       "      <td>...</td>\n",
       "      <td>...</td>\n",
       "    </tr>\n",
       "    <tr>\n",
       "      <th>571</th>\n",
       "      <td>23</td>\n",
       "      <td>1</td>\n",
       "      <td>23</td>\n",
       "    </tr>\n",
       "    <tr>\n",
       "      <th>572</th>\n",
       "      <td>16</td>\n",
       "      <td>3</td>\n",
       "      <td>86</td>\n",
       "    </tr>\n",
       "    <tr>\n",
       "      <th>573</th>\n",
       "      <td>21</td>\n",
       "      <td>2</td>\n",
       "      <td>52</td>\n",
       "    </tr>\n",
       "    <tr>\n",
       "      <th>574</th>\n",
       "      <td>39</td>\n",
       "      <td>1</td>\n",
       "      <td>39</td>\n",
       "    </tr>\n",
       "    <tr>\n",
       "      <th>575</th>\n",
       "      <td>72</td>\n",
       "      <td>1</td>\n",
       "      <td>72</td>\n",
       "    </tr>\n",
       "  </tbody>\n",
       "</table>\n",
       "<p>576 rows × 3 columns</p>\n",
       "</div>"
      ],
      "text/plain": [
       "     Months_since_Last_Donation  Number_donations  Months_since_First_Donation\n",
       "0                             2                50                           98\n",
       "1                             0                13                           28\n",
       "2                             1                16                           35\n",
       "3                             2                20                           45\n",
       "4                             1                24                           77\n",
       "..                          ...               ...                          ...\n",
       "571                          23                 1                           23\n",
       "572                          16                 3                           86\n",
       "573                          21                 2                           52\n",
       "574                          39                 1                           39\n",
       "575                          72                 1                           72\n",
       "\n",
       "[576 rows x 3 columns]"
      ]
     },
     "execution_count": 9,
     "metadata": {
      "tags": []
     },
     "output_type": "execute_result"
    }
   ],
   "source": [
    "df"
   ]
  },
  {
   "cell_type": "code",
   "execution_count": null,
   "metadata": {
    "colab": {
     "base_uri": "https://localhost:8080/"
    },
    "executionInfo": {
     "elapsed": 756,
     "status": "ok",
     "timestamp": 1608029503444,
     "user": {
      "displayName": "ibrahim kone",
      "photoUrl": "",
      "userId": "02753287663478591702"
     },
     "user_tz": -60
    },
    "id": "PQtfxtlxjBbg",
    "outputId": "22627c08-5e7c-46eb-ebcc-18b236c57b85"
   },
   "outputs": [
    {
     "name": "stdout",
     "output_type": "stream",
     "text": [
      "     Months_since_Last_Donation  Number_donations  Months_since_First_Donation\n",
      "349                          21                 1                           21\n",
      "271                          11                 2                           21\n",
      "149                          13                 8                           26\n",
      "124                           2                 1                            2\n",
      "433                           2                 9                           75\n",
      "..                          ...               ...                          ...\n",
      "71                            2                 6                           28\n",
      "106                           4                 5                           28\n",
      "270                          11                 5                           50\n",
      "435                           4                 9                           55\n",
      "102                           2                 5                           34\n",
      "\n",
      "[403 rows x 3 columns]\n"
     ]
    }
   ],
   "source": [
    "from sklearn.preprocessing import StandardScaler\n",
    "X_train, X_test, y_train, y_test = train_test_split(df,target , test_size=0.3, random_state=42)\n",
    "sc = StandardScaler()\n",
    "X_train = sc.fit_transform(X_train)\n",
    "X_test = sc.transform(X_test)"
   ]
  },
  {
   "cell_type": "code",
   "execution_count": null,
   "metadata": {
    "id": "9LmOT1JElXY_"
   },
   "outputs": [],
   "source": [
    "from pickle import dump\n",
    "dump(sc, open('blood.pkl', 'wb'))\n"
   ]
  },
  {
   "cell_type": "code",
   "execution_count": null,
   "metadata": {
    "colab": {
     "base_uri": "https://localhost:8080/"
    },
    "executionInfo": {
     "elapsed": 1092,
     "status": "ok",
     "timestamp": 1608029517456,
     "user": {
      "displayName": "ibrahim kone",
      "photoUrl": "",
      "userId": "02753287663478591702"
     },
     "user_tz": -60
    },
    "id": "1OKjPJ4K-cVN",
    "outputId": "ea3d16da-e34b-40a1-feca-2f179c5fbeca"
   },
   "outputs": [
    {
     "data": {
      "text/plain": [
       "array([[ 1.43804861, -0.75773735, -0.52835188],\n",
       "       [ 0.1787405 , -0.58742606, -0.52835188],\n",
       "       [ 0.43060212,  0.43444172, -0.31935521],\n",
       "       ...,\n",
       "       [ 0.1787405 , -0.07649217,  0.68382881],\n",
       "       [-0.70277517,  0.60475301,  0.89282548],\n",
       "       [-0.95463679, -0.07649217,  0.01503946]])"
      ]
     },
     "execution_count": 21,
     "metadata": {
      "tags": []
     },
     "output_type": "execute_result"
    }
   ],
   "source": [
    "X_train"
   ]
  },
  {
   "cell_type": "code",
   "execution_count": null,
   "metadata": {
    "colab": {
     "base_uri": "https://localhost:8080/"
    },
    "executionInfo": {
     "elapsed": 2997,
     "status": "ok",
     "timestamp": 1607972034738,
     "user": {
      "displayName": "ibrahim kone",
      "photoUrl": "",
      "userId": "02753287663478591702"
     },
     "user_tz": -60
    },
    "id": "e_vfD0d3jG06",
    "outputId": "9a1c6d4f-9cf1-47c3-aac4-f9009c6c2597"
   },
   "outputs": [
    {
     "name": "stdout",
     "output_type": "stream",
     "text": [
      "13/13 [==============================] - 0s 1ms/step - loss: 0.4263 - accuracy: 0.8114\n",
      "Training Accuracy: 81.14%\n",
      "\n",
      "6/6 [==============================] - 0s 1ms/step - loss: 0.4949 - accuracy: 0.7861\n",
      "Testing Accuracy: 78.61%\n",
      "\n"
     ]
    }
   ],
   "source": [
    "# Build neural network with Keras\n",
    "model = Sequential()\n",
    "model.add(Dense(32, activation='relu', input_dim=3))\n",
    "model.add(Dense(16, activation='relu'))\n",
    "model.add(Dense(1, activation='sigmoid'))\n",
    "model.compile(optimizer='adam', loss='binary_crossentropy', metrics=['accuracy'])\n",
    "model.fit(X_train, y_train, epochs=150, verbose=False)\n",
    "\n",
    "# Results - Accuracy\n",
    "scores = model.evaluate(X_train, y_train, verbose=True)\n",
    "print(\"Training Accuracy: %.2f%%\\n\" % (scores[1]*100))\n",
    "scores = model.evaluate(X_test, y_test, verbose=True)\n",
    "print(\"Testing Accuracy: %.2f%%\\n\" % (scores[1]*100))"
   ]
  },
  {
   "cell_type": "code",
   "execution_count": null,
   "metadata": {
    "id": "SyNN8pWAmkFN"
   },
   "outputs": [],
   "source": [
    "model.save('pred_blood.hdf5')"
   ]
  },
  {
   "cell_type": "code",
   "execution_count": null,
   "metadata": {
    "id": "fGAZ_00ul33e"
   },
   "outputs": [],
   "source": []
  },
  {
   "cell_type": "markdown",
   "metadata": {
    "id": "KiUDvtxJXlYk"
   },
   "source": [
    "###Gradient Boosting"
   ]
  },
  {
   "cell_type": "code",
   "execution_count": null,
   "metadata": {
    "id": "HTVJuZFypYUq"
   },
   "outputs": [],
   "source": [
    "from sklearn.preprocessing import StandardScaler\n",
    "X_train, X_test, y_train, y_test = train_test_split(df,target , test_size=0.3, random_state=42)\n",
    "sc = StandardScaler()\n",
    "X_train = sc.fit_transform(X_train)\n",
    "X_test = sc.transform(X_test)"
   ]
  },
  {
   "cell_type": "code",
   "execution_count": null,
   "metadata": {
    "colab": {
     "base_uri": "https://localhost:8080/"
    },
    "executionInfo": {
     "elapsed": 54661,
     "status": "ok",
     "timestamp": 1607973645122,
     "user": {
      "displayName": "ibrahim kone",
      "photoUrl": "",
      "userId": "02753287663478591702"
     },
     "user_tz": -60
    },
    "id": "5NSqPSD4qIwG",
    "outputId": "3f0ce6ad-460a-43ef-f119-873a2c428421"
   },
   "outputs": [
    {
     "name": "stdout",
     "output_type": "stream",
     "text": [
      "Fitting 10 folds for each of 72 candidates, totalling 720 fits\n"
     ]
    },
    {
     "name": "stderr",
     "output_type": "stream",
     "text": [
      "[Parallel(n_jobs=4)]: Using backend LokyBackend with 4 concurrent workers.\n",
      "[Parallel(n_jobs=4)]: Done  42 tasks      | elapsed:    5.6s\n",
      "[Parallel(n_jobs=4)]: Done 192 tasks      | elapsed:   16.3s\n",
      "[Parallel(n_jobs=4)]: Done 442 tasks      | elapsed:   34.3s\n",
      "[Parallel(n_jobs=4)]: Done 720 out of 720 | elapsed:   54.0s finished\n"
     ]
    },
    {
     "data": {
      "text/plain": [
       "0.7966463414634146"
      ]
     },
     "execution_count": 41,
     "metadata": {
      "tags": []
     },
     "output_type": "execute_result"
    }
   ],
   "source": [
    "# Gradient boosting tunning\n",
    "\n",
    "gradient_boost = GradientBoostingClassifier()\n",
    "grid_param = {'loss' : [\"deviance\"],\n",
    "              'n_estimators' : [100,200,300],\n",
    "              'learning_rate': [0.1, 0.05, 0.01],\n",
    "              'max_depth': [4, 8],\n",
    "              'min_samples_leaf': [100,150],\n",
    "              'max_features': [0.3, 0.1] \n",
    "              }\n",
    "\n",
    "# Cross validate model with Kfold stratified cross val\n",
    "kfold = StratifiedKFold(n_splits=10)\n",
    "grid_GBC = GridSearchCV(gradient_boost,param_grid = grid_param, cv=kfold, scoring=\"accuracy\", n_jobs= 4, verbose = 1)\n",
    "\n",
    "grid_GBC.fit(X_train,y_train)\n",
    "\n",
    "GBC_best_model = grid_GBC.best_estimator_\n",
    "\n",
    "# Best score\n",
    "grid_GBC.best_score_"
   ]
  },
  {
   "cell_type": "code",
   "execution_count": null,
   "metadata": {
    "colab": {
     "base_uri": "https://localhost:8080/"
    },
    "executionInfo": {
     "elapsed": 577,
     "status": "ok",
     "timestamp": 1607974324986,
     "user": {
      "displayName": "ibrahim kone",
      "photoUrl": "",
      "userId": "02753287663478591702"
     },
     "user_tz": -60
    },
    "id": "_JFerFh2ucEZ",
    "outputId": "da4ae67e-a289-4c8b-a8f2-b4f1d196f9f4"
   },
   "outputs": [
    {
     "data": {
      "text/plain": [
       "['blood_donation_with_gbm.pkl']"
      ]
     },
     "execution_count": 48,
     "metadata": {
      "tags": []
     },
     "output_type": "execute_result"
    }
   ],
   "source": [
    "joblib.dump(GBC_best_model, 'blood_donation_with_gbm.pkl')"
   ]
  },
  {
   "cell_type": "code",
   "execution_count": null,
   "metadata": {
    "id": "vWczGR59vqn_"
   },
   "outputs": [],
   "source": [
    "#load your model for further usage\n",
    "model=joblib.load(\"blood_donation_with_gbm.pkl\")"
   ]
  },
  {
   "cell_type": "code",
   "execution_count": null,
   "metadata": {
    "colab": {
     "base_uri": "https://localhost:8080/"
    },
    "executionInfo": {
     "elapsed": 614,
     "status": "ok",
     "timestamp": 1607973779534,
     "user": {
      "displayName": "ibrahim kone",
      "photoUrl": "",
      "userId": "02753287663478591702"
     },
     "user_tz": -60
    },
    "id": "wzqwsz4rtIyp",
    "outputId": "f9395039-32e5-4d2f-a5ec-8970b6836b5f"
   },
   "outputs": [
    {
     "data": {
      "text/plain": [
       "{'learning_rate': 0.1,\n",
       " 'loss': 'deviance',\n",
       " 'max_depth': 4,\n",
       " 'max_features': 0.3,\n",
       " 'min_samples_leaf': 100,\n",
       " 'n_estimators': 100}"
      ]
     },
     "execution_count": 42,
     "metadata": {
      "tags": []
     },
     "output_type": "execute_result"
    }
   ],
   "source": [
    "gsGBC.best_params_"
   ]
  },
  {
   "cell_type": "markdown",
   "metadata": {
    "id": "bizBj2MXR7gS"
   },
   "source": [
    "[Try the web app](https://ibrahim-projets.herokuapp.com/projets/blood/)"
   ]
  },
  {
   "cell_type": "code",
   "execution_count": null,
   "metadata": {
    "id": "8dIACeD0R9Tf"
   },
   "outputs": [],
   "source": []
  }
 ],
 "metadata": {
  "colab": {
   "authorship_tag": "ABX9TyPzyhEWkP1xu3msVALKPv19",
   "name": "blood_prediction.ipynb",
   "provenance": []
  },
  "kernelspec": {
   "display_name": "Python 3",
   "language": "python",
   "name": "python3"
  },
  "language_info": {
   "codemirror_mode": {
    "name": "ipython",
    "version": 3
   },
   "file_extension": ".py",
   "mimetype": "text/x-python",
   "name": "python",
   "nbconvert_exporter": "python",
   "pygments_lexer": "ipython3",
   "version": "3.8.3"
  }
 },
 "nbformat": 4,
 "nbformat_minor": 1
}
